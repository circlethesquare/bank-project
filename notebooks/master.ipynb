{
 "cells": [
  {
   "cell_type": "code",
   "execution_count": 1,
   "id": "f0c29f13",
   "metadata": {},
   "outputs": [],
   "source": [
    "#importing pandas before uploading my raw data \n",
    "import pandas as pd"
   ]
  },
  {
   "cell_type": "code",
   "execution_count": 2,
   "id": "570c8196",
   "metadata": {},
   "outputs": [
    {
     "data": {
      "text/plain": [
       "'2.2.1'"
      ]
     },
     "execution_count": 2,
     "metadata": {},
     "output_type": "execute_result"
    }
   ],
   "source": [
    "#checking pandas version to add to my requirements file \n",
    "\n",
    "pd.__version__"
   ]
  },
  {
   "cell_type": "code",
   "execution_count": 4,
   "id": "6f2788ca",
   "metadata": {},
   "outputs": [],
   "source": [
    "data_path = \"../data/raw/bank-additional-full.csv\"\n",
    "raw_bank_df = pd.read_csv(data_path)"
   ]
  },
  {
   "cell_type": "code",
   "execution_count": 5,
   "id": "6aa77cec",
   "metadata": {},
   "outputs": [],
   "source": [
    "#the initial issue is that all the data is in one column and row. \n",
    "#will first split the column names: \n",
    "one_initial_column = raw_bank_df.columns\n",
    "column_names = one_initial_column[0].split(';')"
   ]
  },
  {
   "cell_type": "code",
   "execution_count": 6,
   "id": "addb977c",
   "metadata": {},
   "outputs": [
    {
     "name": "stdout",
     "output_type": "stream",
     "text": [
      "cleaned column names are ['age', 'job', 'marital', 'education', 'default', 'housing', 'loan', 'contact', 'month', 'day_of_week', 'duration', 'campaign', 'pdays', 'previous', 'poutcome', 'emp_var_rate', 'cons_price_idx', 'cons_conf_idx', 'euribor3m', 'nr_employed', 'y']\n"
     ]
    }
   ],
   "source": [
    "def clean_string(input_string):\n",
    "    \"\"\"\n",
    "    Defining a function to clean non-alphabetic characters but replace '.', ' ', with '_'\n",
    "    then will use map to apply the function \n",
    "    \"\"\"\n",
    "    cleaned_string = \"\"\n",
    "    for char in input_string:\n",
    "        if char.isalpha() or char.isdigit() or char in ['.', ' ', '_']:\n",
    "            cleaned_string += char\n",
    "    \n",
    "    cleaned_string = cleaned_string.replace('.','_').replace(' ','_')\n",
    "    return cleaned_string\n",
    "\n",
    "#applying the function to each elemen in column_names to finalise the formatting \n",
    "     \n",
    "cleaned_column_names = list(map(clean_string, column_names))\n",
    "print(f\"cleaned column names are {cleaned_column_names}\")"
   ]
  },
  {
   "cell_type": "code",
   "execution_count": 7,
   "id": "c7ec2f8b",
   "metadata": {},
   "outputs": [],
   "source": [
    "#assigning the current one column name as the_column for easier applicaiton \n",
    "\n",
    "the_column = 'age;\"job\";\"marital\";\"education\";\"default\";\"housing\";\"loan\";\"contact\";\"month\";\"day_of_week\";\"duration\";\"campaign\";\"pdays\";\"previous\";\"poutcome\";\"emp.var.rate\";\"cons.price.idx\";\"cons.conf.idx\";\"euribor3m\";\"nr.employed\";\"y\"'"
   ]
  },
  {
   "cell_type": "code",
   "execution_count": null,
   "id": "2a95276b",
   "metadata": {},
   "outputs": [],
   "source": []
  },
  {
   "cell_type": "code",
   "execution_count": 8,
   "id": "825ac35f",
   "metadata": {},
   "outputs": [],
   "source": [
    "#creating my data frame with these column names and corresponding values, original values were all \n",
    "#under one column. Using slicing to create my data frame \n",
    "\n",
    "new_data = []\n",
    "for index, row in raw_bank_df.iterrows():\n",
    "    values = row[the_column].replace('\"',\"\").split(';')\n",
    "    row_dict = dict(zip(cleaned_column_names, values))\n",
    "    new_data.append(row_dict)\n",
    "\n",
    "new_raw_bank_df = pd.DataFrame(new_data)"
   ]
  },
  {
   "cell_type": "code",
   "execution_count": 9,
   "id": "ae10c576",
   "metadata": {},
   "outputs": [
    {
     "data": {
      "text/plain": [
       "age               0\n",
       "job               0\n",
       "marital           0\n",
       "education         0\n",
       "default           0\n",
       "housing           0\n",
       "loan              0\n",
       "contact           0\n",
       "month             0\n",
       "day_of_week       0\n",
       "duration          0\n",
       "campaign          0\n",
       "pdays             0\n",
       "previous          0\n",
       "poutcome          0\n",
       "emp_var_rate      0\n",
       "cons_price_idx    0\n",
       "cons_conf_idx     0\n",
       "euribor3m         0\n",
       "nr_employed       0\n",
       "y                 0\n",
       "dtype: int64"
      ]
     },
     "execution_count": 9,
     "metadata": {},
     "output_type": "execute_result"
    }
   ],
   "source": [
    "#checking for null values, no null \n",
    "new_raw_bank_df.isnull().sum()"
   ]
  },
  {
   "cell_type": "code",
   "execution_count": null,
   "id": "cbddbe64",
   "metadata": {},
   "outputs": [],
   "source": []
  },
  {
   "cell_type": "code",
   "execution_count": 10,
   "id": "c3925009",
   "metadata": {},
   "outputs": [],
   "source": [
    "#some numeric data have incorrect data type, will be changing accordingly: \n",
    "\n",
    "numeric_columns = [\"age\", \"duration\", \"pdays\", \"previous\",\n",
    "                   \"emp_var_rate\", \"cons_price_idx\",\"cons_conf_idx\",\n",
    "                   \"euribor3m\", \"nr_employed\"\n",
    "                  ]\n",
    "for column in numeric_columns:\n",
    "    new_raw_bank_df[column] = new_raw_bank_df[column].astype(float)"
   ]
  },
  {
   "cell_type": "code",
   "execution_count": null,
   "id": "b7fe9848",
   "metadata": {},
   "outputs": [],
   "source": []
  },
  {
   "cell_type": "code",
   "execution_count": null,
   "id": "69a3d3f1",
   "metadata": {},
   "outputs": [],
   "source": []
  },
  {
   "cell_type": "code",
   "execution_count": null,
   "id": "b3a6ed69",
   "metadata": {},
   "outputs": [],
   "source": []
  },
  {
   "cell_type": "code",
   "execution_count": null,
   "id": "e176df16",
   "metadata": {},
   "outputs": [],
   "source": []
  },
  {
   "cell_type": "code",
   "execution_count": null,
   "id": "e4308d9e",
   "metadata": {},
   "outputs": [],
   "source": []
  }
 ],
 "metadata": {
  "kernelspec": {
   "display_name": "venv",
   "language": "python",
   "name": "venv"
  },
  "language_info": {
   "codemirror_mode": {
    "name": "ipython",
    "version": 3
   },
   "file_extension": ".py",
   "mimetype": "text/x-python",
   "name": "python",
   "nbconvert_exporter": "python",
   "pygments_lexer": "ipython3",
   "version": "3.11.7"
  }
 },
 "nbformat": 4,
 "nbformat_minor": 5
}
