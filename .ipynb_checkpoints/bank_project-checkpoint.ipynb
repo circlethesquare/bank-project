{
 "cells": [
  {
   "cell_type": "code",
   "execution_count": 1,
   "id": "f0c29f13",
   "metadata": {},
   "outputs": [],
   "source": [
    "#importing pandas before uploading my raw data \n",
    "import pandas as pd\n",
    "import numpy as np"
   ]
  },
  {
   "cell_type": "code",
   "execution_count": 2,
   "id": "0d5f12fe",
   "metadata": {},
   "outputs": [
    {
     "data": {
      "text/plain": [
       "'1.26.4'"
      ]
     },
     "execution_count": 2,
     "metadata": {},
     "output_type": "execute_result"
    }
   ],
   "source": [
    "#checking numpy version to add to my requirements file \n",
    "\n",
    "np.__version__"
   ]
  },
  {
   "cell_type": "code",
   "execution_count": 3,
   "id": "570c8196",
   "metadata": {},
   "outputs": [
    {
     "data": {
      "text/plain": [
       "'2.2.1'"
      ]
     },
     "execution_count": 3,
     "metadata": {},
     "output_type": "execute_result"
    }
   ],
   "source": [
    "#checking pandas version to add to my requirements file \n",
    "\n",
    "pd.__version__"
   ]
  },
  {
   "cell_type": "code",
   "execution_count": 4,
   "id": "6f2788ca",
   "metadata": {},
   "outputs": [],
   "source": [
    "data_path = \"../data/raw/bank-additional-full.csv\"\n",
    "raw_bank_df = pd.read_csv(data_path)"
   ]
  },
  {
   "cell_type": "markdown",
   "id": "46617ba3-149b-4374-a3e7-f68b19bf9e76",
   "metadata": {},
   "source": [
    "Cleaning "
   ]
  },
  {
   "cell_type": "code",
   "execution_count": 5,
   "id": "53397ed2",
   "metadata": {},
   "outputs": [
    {
     "data": {
      "text/html": [
       "<div>\n",
       "<style scoped>\n",
       "    .dataframe tbody tr th:only-of-type {\n",
       "        vertical-align: middle;\n",
       "    }\n",
       "\n",
       "    .dataframe tbody tr th {\n",
       "        vertical-align: top;\n",
       "    }\n",
       "\n",
       "    .dataframe thead th {\n",
       "        text-align: right;\n",
       "    }\n",
       "</style>\n",
       "<table border=\"1\" class=\"dataframe\">\n",
       "  <thead>\n",
       "    <tr style=\"text-align: right;\">\n",
       "      <th></th>\n",
       "      <th>age;\"job\";\"marital\";\"education\";\"default\";\"housing\";\"loan\";\"contact\";\"month\";\"day_of_week\";\"duration\";\"campaign\";\"pdays\";\"previous\";\"poutcome\";\"emp.var.rate\";\"cons.price.idx\";\"cons.conf.idx\";\"euribor3m\";\"nr.employed\";\"y\"</th>\n",
       "    </tr>\n",
       "  </thead>\n",
       "  <tbody>\n",
       "    <tr>\n",
       "      <th>0</th>\n",
       "      <td>56;\"housemaid\";\"married\";\"basic.4y\";\"no\";\"no\";...</td>\n",
       "    </tr>\n",
       "    <tr>\n",
       "      <th>1</th>\n",
       "      <td>57;\"services\";\"married\";\"high.school\";\"unknown...</td>\n",
       "    </tr>\n",
       "    <tr>\n",
       "      <th>2</th>\n",
       "      <td>37;\"services\";\"married\";\"high.school\";\"no\";\"ye...</td>\n",
       "    </tr>\n",
       "    <tr>\n",
       "      <th>3</th>\n",
       "      <td>40;\"admin.\";\"married\";\"basic.6y\";\"no\";\"no\";\"no...</td>\n",
       "    </tr>\n",
       "    <tr>\n",
       "      <th>4</th>\n",
       "      <td>56;\"services\";\"married\";\"high.school\";\"no\";\"no...</td>\n",
       "    </tr>\n",
       "    <tr>\n",
       "      <th>...</th>\n",
       "      <td>...</td>\n",
       "    </tr>\n",
       "    <tr>\n",
       "      <th>41183</th>\n",
       "      <td>73;\"retired\";\"married\";\"professional.course\";\"...</td>\n",
       "    </tr>\n",
       "    <tr>\n",
       "      <th>41184</th>\n",
       "      <td>46;\"blue-collar\";\"married\";\"professional.cours...</td>\n",
       "    </tr>\n",
       "    <tr>\n",
       "      <th>41185</th>\n",
       "      <td>56;\"retired\";\"married\";\"university.degree\";\"no...</td>\n",
       "    </tr>\n",
       "    <tr>\n",
       "      <th>41186</th>\n",
       "      <td>44;\"technician\";\"married\";\"professional.course...</td>\n",
       "    </tr>\n",
       "    <tr>\n",
       "      <th>41187</th>\n",
       "      <td>74;\"retired\";\"married\";\"professional.course\";\"...</td>\n",
       "    </tr>\n",
       "  </tbody>\n",
       "</table>\n",
       "<p>41188 rows × 1 columns</p>\n",
       "</div>"
      ],
      "text/plain": [
       "      age;\"job\";\"marital\";\"education\";\"default\";\"housing\";\"loan\";\"contact\";\"month\";\"day_of_week\";\"duration\";\"campaign\";\"pdays\";\"previous\";\"poutcome\";\"emp.var.rate\";\"cons.price.idx\";\"cons.conf.idx\";\"euribor3m\";\"nr.employed\";\"y\"\n",
       "0      56;\"housemaid\";\"married\";\"basic.4y\";\"no\";\"no\";...                                                                                                                                                                          \n",
       "1      57;\"services\";\"married\";\"high.school\";\"unknown...                                                                                                                                                                          \n",
       "2      37;\"services\";\"married\";\"high.school\";\"no\";\"ye...                                                                                                                                                                          \n",
       "3      40;\"admin.\";\"married\";\"basic.6y\";\"no\";\"no\";\"no...                                                                                                                                                                          \n",
       "4      56;\"services\";\"married\";\"high.school\";\"no\";\"no...                                                                                                                                                                          \n",
       "...                                                  ...                                                                                                                                                                          \n",
       "41183  73;\"retired\";\"married\";\"professional.course\";\"...                                                                                                                                                                          \n",
       "41184  46;\"blue-collar\";\"married\";\"professional.cours...                                                                                                                                                                          \n",
       "41185  56;\"retired\";\"married\";\"university.degree\";\"no...                                                                                                                                                                          \n",
       "41186  44;\"technician\";\"married\";\"professional.course...                                                                                                                                                                          \n",
       "41187  74;\"retired\";\"married\";\"professional.course\";\"...                                                                                                                                                                          \n",
       "\n",
       "[41188 rows x 1 columns]"
      ]
     },
     "execution_count": 5,
     "metadata": {},
     "output_type": "execute_result"
    }
   ],
   "source": [
    "raw_bank_df"
   ]
  },
  {
   "cell_type": "code",
   "execution_count": 6,
   "id": "6aa77cec",
   "metadata": {},
   "outputs": [],
   "source": [
    "#the initial issue is that all the data is in one column and row. \n",
    "#will first split the column names: \n",
    "\n",
    "one_initial_column = raw_bank_df.columns\n",
    "column_names = one_initial_column[0].split(';')"
   ]
  },
  {
   "cell_type": "code",
   "execution_count": 7,
   "id": "addb977c",
   "metadata": {},
   "outputs": [
    {
     "name": "stdout",
     "output_type": "stream",
     "text": [
      "cleaned column names are ['age', 'job', 'marital', 'education', 'default', 'housing', 'loan', 'contact', 'month', 'day_of_week', 'duration', 'campaign', 'pdays', 'previous', 'poutcome', 'emp_var_rate', 'cons_price_idx', 'cons_conf_idx', 'euribor3m', 'nr_employed', 'y']\n"
     ]
    }
   ],
   "source": [
    "def clean_string(input_string):\n",
    "    \"\"\"\n",
    "    Defining a function to clean non-alphabetic characters but replace '.', ' ', with '_'\n",
    "    then will use map to apply the function \n",
    "    \"\"\"\n",
    "    cleaned_string = \"\"\n",
    "    for char in input_string:\n",
    "        if char.isalpha() or char.isdigit() or char in ['.', ' ', '_']:\n",
    "            cleaned_string += char\n",
    "    \n",
    "    cleaned_string = cleaned_string.replace('.','_').replace(' ','_')\n",
    "    return cleaned_string\n",
    "\n",
    "#applying the function to each elemen in column_names to finalise the formatting \n",
    "     \n",
    "cleaned_column_names = list(map(clean_string, column_names))\n",
    "print(f\"cleaned column names are {cleaned_column_names}\")"
   ]
  },
  {
   "cell_type": "code",
   "execution_count": 8,
   "id": "c7ec2f8b",
   "metadata": {},
   "outputs": [],
   "source": [
    "#assigning the current one column name as the_column for easier applicaiton \n",
    "\n",
    "the_column = 'age;\"job\";\"marital\";\"education\";\"default\";\"housing\";\"loan\";\"contact\";\"month\";\"day_of_week\";\"duration\";\"campaign\";\"pdays\";\"previous\";\"poutcome\";\"emp.var.rate\";\"cons.price.idx\";\"cons.conf.idx\";\"euribor3m\";\"nr.employed\";\"y\"'"
   ]
  },
  {
   "cell_type": "code",
   "execution_count": null,
   "id": "2a95276b",
   "metadata": {},
   "outputs": [],
   "source": []
  },
  {
   "cell_type": "code",
   "execution_count": 9,
   "id": "825ac35f",
   "metadata": {},
   "outputs": [],
   "source": [
    "#creating my data frame with these column names and corresponding values, original values were all \n",
    "#under one column. Using slicing to create my data frame \n",
    "\n",
    "new_data = []\n",
    "for index, row in raw_bank_df.iterrows():\n",
    "    values = row[the_column].replace('\"',\"\").split(';')\n",
    "    row_dict = dict(zip(cleaned_column_names, values))\n",
    "    new_data.append(row_dict)\n",
    "\n",
    "new_raw_bank_df = pd.DataFrame(new_data)"
   ]
  },
  {
   "cell_type": "code",
   "execution_count": 10,
   "id": "ae10c576",
   "metadata": {},
   "outputs": [],
   "source": [
    "#checking for null values, no null \n",
    "#new_raw_bank_df.isnull().sum() because null values are tagged as unknown\n",
    "# will change to nan to come up with a better strategy for filling \n",
    "\n",
    "new_raw_bank_df.replace('unknown', np.nan, inplace=True)\n",
    "\n",
    "#decided to drop all null values as there are not much comparing the shapes before/after \n",
    "\n",
    "new_raw_bank_df.dropna(how='any', inplace=True)"
   ]
  },
  {
   "cell_type": "code",
   "execution_count": 11,
   "id": "c3925009",
   "metadata": {},
   "outputs": [],
   "source": [
    "#some numeric data have incorrect data type, will be changing accordingly: \n",
    "\n",
    "numeric_columns = [\"age\", \"duration\", \"pdays\", \"previous\",\n",
    "                   \"emp_var_rate\", \"cons_price_idx\",\"cons_conf_idx\",\n",
    "                   \"euribor3m\", \"nr_employed\"\n",
    "                  ]\n",
    "for column in numeric_columns:\n",
    "    new_raw_bank_df[column] = new_raw_bank_df[column].astype(float)"
   ]
  },
  {
   "cell_type": "code",
   "execution_count": 12,
   "id": "b7fe9848",
   "metadata": {},
   "outputs": [],
   "source": [
    "#checking for duplicates \n",
    "new_raw_bank_df.duplicated().sum()\n",
    "\n",
    "#deleting duplicates \n",
    "new_raw_bank_df.drop_duplicates(inplace=True)"
   ]
  },
  {
   "cell_type": "code",
   "execution_count": 13,
   "id": "69a3d3f1",
   "metadata": {},
   "outputs": [],
   "source": [
    "#resetting index \n",
    "new_raw_bank_df.reset_index(drop=True, inplace=True)"
   ]
  },
  {
   "cell_type": "code",
   "execution_count": 14,
   "id": "b3a6ed69",
   "metadata": {},
   "outputs": [],
   "source": [
    "#since our key value is Y column, changing it to numeric for easier anlysis \n",
    "\n",
    "new_raw_bank_df['y'] = new_raw_bank_df['y'].apply(lambda x: 1 if x == 'yes' else 0)\n"
   ]
  },
  {
   "cell_type": "markdown",
   "id": "ec920d0e-466d-4a3c-a750-46516b6070ff",
   "metadata": {},
   "source": [
    "Analysing Data "
   ]
  },
  {
   "cell_type": "code",
   "execution_count": 15,
   "id": "e176df16",
   "metadata": {},
   "outputs": [],
   "source": [
    "#grouping data by job and sum of Y\n",
    "grouped_by_job = new_raw_bank_df.groupby('job')['y'].sum().reset_index()\n",
    "\n",
    "#total number of people per job \n",
    "job_value_count = new_raw_bank_df.job.value_counts().reset_index()\n",
    "\n",
    "#merging to see total number of people and total number of purchasers by job \n",
    "\n",
    "merged_job_grouped = pd.merge(grouped_by_job, job_value_count, on='job')\n",
    "#adding a new column to see the percentage of purchasers to total number of people, by job \n",
    "\n",
    "merged_job_grouped['%'] = (merged_job_grouped['y']*100/merged_job_grouped['count']).round(1)\n",
    "merged_job_grouped.drop(['y', 'count'], axis=1, inplace=True)\n",
    "\n",
    "#this is the percentage of successfull sales per jobs type merged_job_grouped  \n"
   ]
  },
  {
   "cell_type": "code",
   "execution_count": null,
   "id": "e4308d9e",
   "metadata": {},
   "outputs": [],
   "source": []
  },
  {
   "cell_type": "code",
   "execution_count": 16,
   "id": "28dcbb2a",
   "metadata": {},
   "outputs": [],
   "source": [
    "#percentage of total buyers per contact type \n",
    "\n",
    "grouped_by_contacts = new_raw_bank_df.groupby('contact')['y'].sum().reset_index()\n",
    "\n",
    "contact_count = new_raw_bank_df['contact'].value_counts()\n",
    "\n",
    "merged_contact_grouped = pd.merge(grouped_by_contacts, contact_count, on='contact')\n",
    "\n",
    "merged_contact_grouped['%'] = (merged_contact_grouped['y']*100/merged_contact_grouped['count']).round(1)\n",
    "merged_contact_grouped.drop(['y','count'], axis=1, inplace=True)"
   ]
  },
  {
   "cell_type": "code",
   "execution_count": null,
   "id": "8855e880-c92e-4af0-8d72-f2ade77a2f17",
   "metadata": {},
   "outputs": [],
   "source": []
  },
  {
   "cell_type": "code",
   "execution_count": 20,
   "id": "88f9a2c2",
   "metadata": {},
   "outputs": [],
   "source": [
    "#PERCENTAGE OF SALES PER JOB AND AGE INTERVAL COMPARED TO TOTAL SALES \n",
    "\n",
    "#to check how sales look per age intervals, creating the intervals column :\n",
    "\n",
    "new_raw_bank_df['age_interval'] = pd.cut(new_raw_bank_df['age'], \n",
    "                                          bins=[18, 25, 35, 45, 55, 65, 100], \n",
    "                                          labels=['18-25', '26-35', '36-45', '46-55', '56-65', '66+'], \n",
    "                                          right=False)\n",
    "\n",
    "#creating a pivot table that shows the total number of sales by age interval and job \n",
    "\n",
    "pivot_byjob = pd.pivot_table(\n",
    "                  new_raw_bank_df,\n",
    "                  values = 'y',\n",
    "                  index='job',\n",
    "                  columns='age_interval',\n",
    "                  aggfunc = 'sum',\n",
    "                  observed=False\n",
    "                \n",
    ")\n",
    "\n",
    "#For better understanding, changing total sales per job type and age interval to the percentage compared to total sales \n",
    "\n",
    "def percentage_calculate(df, column_names):\n",
    "    \"\"\"defyining a new function to replace sale numbers \n",
    "    as percentages of sales numbers comparing to total sales\"\"\"\n",
    "    \n",
    "    for column in column_names:\n",
    "        df[column] = (df[column] * 100 / df['y'].sum()).round(1)\n",
    "    return df\n",
    "\n",
    "merged_job = pd.merge(pivot_byjob, grouped_by_job, on='job')\n",
    "\n",
    "column_names = list(merged_job.columns)\n",
    "column_names.pop(0)\n",
    "\n",
    "percentage_job_age_df = merged_job.copy()\n",
    "percentage_job_age_df = percentage_calculate(percentage_job_age_df, column_names)\n",
    "\n",
    "percentage_job_age_df\n",
    "\n",
    "percentage_job_age_df.loc[11] = ['total per age group'] + percentage_job_age_df.iloc[:, 1:-1].sum().tolist() + [percentage_job_age_df['y'].sum()]\n",
    "percentage_job_age_df.loc[11,'y'] = 100\n"
   ]
  },
  {
   "cell_type": "code",
   "execution_count": null,
   "id": "1b6550fb",
   "metadata": {},
   "outputs": [],
   "source": []
  },
  {
   "cell_type": "code",
   "execution_count": 25,
   "id": "4bc9419d",
   "metadata": {},
   "outputs": [
    {
     "data": {
      "text/html": [
       "<div>\n",
       "<style scoped>\n",
       "    .dataframe tbody tr th:only-of-type {\n",
       "        vertical-align: middle;\n",
       "    }\n",
       "\n",
       "    .dataframe tbody tr th {\n",
       "        vertical-align: top;\n",
       "    }\n",
       "\n",
       "    .dataframe thead th {\n",
       "        text-align: right;\n",
       "    }\n",
       "</style>\n",
       "<table border=\"1\" class=\"dataframe\">\n",
       "  <thead>\n",
       "    <tr style=\"text-align: right;\">\n",
       "      <th></th>\n",
       "      <th>index</th>\n",
       "      <th>education</th>\n",
       "      <th>18-25</th>\n",
       "      <th>26-35</th>\n",
       "      <th>36-45</th>\n",
       "      <th>46-55</th>\n",
       "      <th>56-65</th>\n",
       "      <th>66+</th>\n",
       "      <th>y</th>\n",
       "    </tr>\n",
       "  </thead>\n",
       "  <tbody>\n",
       "    <tr>\n",
       "      <th>0</th>\n",
       "      <td>0</td>\n",
       "      <td>basic.4y</td>\n",
       "      <td>0.2</td>\n",
       "      <td>0.6</td>\n",
       "      <td>0.8</td>\n",
       "      <td>1.1</td>\n",
       "      <td>2.2</td>\n",
       "      <td>3.5</td>\n",
       "      <td>8.4</td>\n",
       "    </tr>\n",
       "    <tr>\n",
       "      <th>1</th>\n",
       "      <td>1</td>\n",
       "      <td>basic.6y</td>\n",
       "      <td>0.2</td>\n",
       "      <td>0.9</td>\n",
       "      <td>1.3</td>\n",
       "      <td>0.8</td>\n",
       "      <td>0.1</td>\n",
       "      <td>0.2</td>\n",
       "      <td>3.5</td>\n",
       "    </tr>\n",
       "    <tr>\n",
       "      <th>2</th>\n",
       "      <td>2</td>\n",
       "      <td>basic.9y</td>\n",
       "      <td>0.8</td>\n",
       "      <td>3.7</td>\n",
       "      <td>2.5</td>\n",
       "      <td>1.9</td>\n",
       "      <td>0.9</td>\n",
       "      <td>0.2</td>\n",
       "      <td>9.8</td>\n",
       "    </tr>\n",
       "    <tr>\n",
       "      <th>3</th>\n",
       "      <td>3</td>\n",
       "      <td>high.school</td>\n",
       "      <td>2.4</td>\n",
       "      <td>10.0</td>\n",
       "      <td>6.1</td>\n",
       "      <td>3.1</td>\n",
       "      <td>1.9</td>\n",
       "      <td>0.7</td>\n",
       "      <td>24.2</td>\n",
       "    </tr>\n",
       "    <tr>\n",
       "      <th>4</th>\n",
       "      <td>4</td>\n",
       "      <td>illiterate</td>\n",
       "      <td>0.0</td>\n",
       "      <td>0.0</td>\n",
       "      <td>0.0</td>\n",
       "      <td>0.0</td>\n",
       "      <td>0.0</td>\n",
       "      <td>0.0</td>\n",
       "      <td>0.1</td>\n",
       "    </tr>\n",
       "    <tr>\n",
       "      <th>5</th>\n",
       "      <td>5</td>\n",
       "      <td>professional.course</td>\n",
       "      <td>0.6</td>\n",
       "      <td>5.2</td>\n",
       "      <td>3.7</td>\n",
       "      <td>2.1</td>\n",
       "      <td>1.5</td>\n",
       "      <td>0.8</td>\n",
       "      <td>13.9</td>\n",
       "    </tr>\n",
       "    <tr>\n",
       "      <th>6</th>\n",
       "      <td>6</td>\n",
       "      <td>university.degree</td>\n",
       "      <td>1.0</td>\n",
       "      <td>17.9</td>\n",
       "      <td>10.9</td>\n",
       "      <td>6.0</td>\n",
       "      <td>3.2</td>\n",
       "      <td>1.0</td>\n",
       "      <td>39.9</td>\n",
       "    </tr>\n",
       "    <tr>\n",
       "      <th>7</th>\n",
       "      <td>7</td>\n",
       "      <td>total per age group</td>\n",
       "      <td>5.2</td>\n",
       "      <td>38.3</td>\n",
       "      <td>25.3</td>\n",
       "      <td>15.0</td>\n",
       "      <td>9.8</td>\n",
       "      <td>6.4</td>\n",
       "      <td>100.0</td>\n",
       "    </tr>\n",
       "  </tbody>\n",
       "</table>\n",
       "</div>"
      ],
      "text/plain": [
       "   index            education  18-25  26-35  36-45  46-55  56-65  66+      y\n",
       "0      0             basic.4y    0.2    0.6    0.8    1.1    2.2  3.5    8.4\n",
       "1      1             basic.6y    0.2    0.9    1.3    0.8    0.1  0.2    3.5\n",
       "2      2             basic.9y    0.8    3.7    2.5    1.9    0.9  0.2    9.8\n",
       "3      3          high.school    2.4   10.0    6.1    3.1    1.9  0.7   24.2\n",
       "4      4           illiterate    0.0    0.0    0.0    0.0    0.0  0.0    0.1\n",
       "5      5  professional.course    0.6    5.2    3.7    2.1    1.5  0.8   13.9\n",
       "6      6    university.degree    1.0   17.9   10.9    6.0    3.2  1.0   39.9\n",
       "7      7  total per age group    5.2   38.3   25.3   15.0    9.8  6.4  100.0"
      ]
     },
     "execution_count": 25,
     "metadata": {},
     "output_type": "execute_result"
    }
   ],
   "source": [
    "#PERCENTAGE OF SALES PER EDUCATION AND AGE INTERVAL COMPARED TO TOTAL SALES \n",
    "\n",
    "#grouping data by education and sum of Y\n",
    "grouped_by_education = new_raw_bank_df.groupby('education')['y'].sum().reset_index()\n",
    "\n",
    "#creating a pivot table that shows the total number of sales by age interval and education \n",
    "\n",
    "pivot_byeducation = pd.pivot_table(\n",
    "                  new_raw_bank_df,\n",
    "                  values = 'y',\n",
    "                  index='education',\n",
    "                  columns='age_interval',\n",
    "                  aggfunc = 'sum',\n",
    "                  observed=False\n",
    "                \n",
    ")\n",
    "\n",
    "#For better understanding, changing total sales per e type and age interval to the percentage compared to total sales \n",
    "\n",
    "def percentage_calculate(df, column_names):\n",
    "    \"\"\"defyining a new function to replace sale numbers \n",
    "    as percentages of sales numbers comparing to total sales\"\"\"\n",
    "    \n",
    "    for column in column_names:\n",
    "        df[column] = (df[column] * 100 / df['y'].sum()).round(1)\n",
    "    return df\n",
    "\n",
    "merged_education= pd.merge(pivot_byeducation, grouped_by_education, on='education')\n",
    "\n",
    "\n",
    "percentage_education_age_df = merged_education.copy()\n",
    "percentage_education_age_dff = percentage_calculate(percentage_education_age_df, column_names)\n",
    "\n",
    "\n",
    "percentage_education_age_df.loc[7] = ['total per age group'] + percentage_education_age_df.iloc[:, 1:-1].sum().tolist() + [percentage_education_age_df['y'].sum()]\n",
    "percentage_education_age_df.loc[7,'y'] = 100\n",
    "percentage_education_age_df.reset_index()"
   ]
  },
  {
   "cell_type": "code",
   "execution_count": null,
   "id": "a90c7013",
   "metadata": {},
   "outputs": [],
   "source": []
  },
  {
   "cell_type": "code",
   "execution_count": null,
   "id": "cbc43f28",
   "metadata": {},
   "outputs": [],
   "source": [
    "#PERCENTAGE OF SALES PER MARITAL STATUS AND AGE INTERVAL COMPARED TO TOTAL SALES \n",
    "\n",
    "#grouping data by marital status and sum of Y\n",
    "grouped_by_marital = new_raw_bank_df.groupby('marital')['y'].sum().reset_index()\n",
    "\n",
    "#creating a pivot table that shows the total number of sales by age interval and marital status \n",
    "\n",
    "pivot_bymarital = pd.pivot_table(\n",
    "                  new_raw_bank_df,\n",
    "                  values = 'y',\n",
    "                  index='marital',\n",
    "                  columns='age_interval',\n",
    "                  aggfunc = 'sum',\n",
    "                  observed=False\n",
    "                \n",
    ")\n",
    "\n",
    "#For better understanding, changing total sales per e type and age interval to the percentage compared to total sales \n",
    "\n",
    "def percentage_calculate(df, column_names):\n",
    "    \"\"\"defyining a new function to replace sale numbers \n",
    "    as percentages of sales numbers comparing to total sales\"\"\"\n",
    "    \n",
    "    for column in column_names:\n",
    "        df[column] = (df[column] * 100 / df['y'].sum()).round(1)\n",
    "    return df\n",
    "\n",
    "merged_marital= pd.merge(pivot_bymarital, grouped_by_marital, on='marital')\n",
    "\n",
    "\n",
    "percentage_marital_age_df = merged_marital.copy()\n",
    "percentage_marital_age_dff = percentage_calculate(percentage_marital_age_df, column_names)\n",
    "\n",
    "\n",
    "percentage_marital_age_df.loc[3] = ['total per age group'] + percentage_marital_age_df.iloc[:, 1:-1].sum().tolist() + [percentage_marital_age_df['y'].sum()]\n",
    "percentage_marital_age_df.loc[3,'y'] = 100\n",
    "percentage_marital_age_df.reset_index()\n",
    "\n"
   ]
  },
  {
   "cell_type": "code",
   "execution_count": null,
   "id": "85e39175",
   "metadata": {},
   "outputs": [],
   "source": []
  },
  {
   "cell_type": "code",
   "execution_count": null,
   "id": "fa10f070",
   "metadata": {},
   "outputs": [],
   "source": []
  },
  {
   "cell_type": "code",
   "execution_count": null,
   "id": "b22f0025",
   "metadata": {},
   "outputs": [],
   "source": []
  },
  {
   "cell_type": "code",
   "execution_count": null,
   "id": "43a427c4-a6a7-45a8-8ed3-cefc00a363d5",
   "metadata": {},
   "outputs": [],
   "source": []
  },
  {
   "cell_type": "code",
   "execution_count": null,
   "id": "7af4354a-2f27-44bd-b3b9-45eec38c8175",
   "metadata": {},
   "outputs": [],
   "source": []
  }
 ],
 "metadata": {
  "kernelspec": {
   "display_name": "venv",
   "language": "python",
   "name": "venv"
  },
  "language_info": {
   "codemirror_mode": {
    "name": "ipython",
    "version": 3
   },
   "file_extension": ".py",
   "mimetype": "text/x-python",
   "name": "python",
   "nbconvert_exporter": "python",
   "pygments_lexer": "ipython3",
   "version": "3.11.7"
  }
 },
 "nbformat": 4,
 "nbformat_minor": 5
}
